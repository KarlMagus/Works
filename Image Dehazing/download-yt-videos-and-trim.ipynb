{
 "cells": [
  {
   "cell_type": "code",
   "execution_count": 1,
   "metadata": {},
   "outputs": [],
   "source": [
    "from pytube import YouTube\n",
    "from datetime import time"
   ]
  },
  {
   "cell_type": "code",
   "execution_count": 2,
   "metadata": {},
   "outputs": [],
   "source": [
    "download_path = 'Videos'"
   ]
  },
  {
   "cell_type": "code",
   "execution_count": 3,
   "metadata": {},
   "outputs": [],
   "source": [
    "def download_yt_video(url, download_path=download_path):\n",
    "    yt = YouTube(url)\n",
    "    video = yt.streams.get_highest_resolution()\n",
    "    video.download(download_path)\n",
    "    print(f'Downloaded: {url}')"
   ]
  },
  {
   "cell_type": "code",
   "execution_count": 4,
   "metadata": {},
   "outputs": [],
   "source": [
    "def trim_video(input, start, end):\n",
    "    start_str = time(*start).strftime('%H:%M:%S')\n",
    "    end_str = time(*end).strftime('%H:%M:%S')\n",
    "    output = f'{input.replace(\" \", \"_\")}_{start_str}___{end_str}'.replace(':', '_')\n",
    "\n",
    "    !ffmpeg -ss {start_str} -to {end_str} -i \"{input}.mp4\" -c copy \"{output}.mp4\"\n",
    "    return output"
   ]
  },
  {
   "cell_type": "code",
   "execution_count": 5,
   "metadata": {},
   "outputs": [
    {
     "name": "stdout",
     "output_type": "stream",
     "text": [
      "Downloaded: https://www.youtube.com/watch?v=LVanPoKh7Ew\n"
     ]
    }
   ],
   "source": [
    "download_yt_video('https://www.youtube.com/watch?v=LVanPoKh7Ew')"
   ]
  },
  {
   "cell_type": "code",
   "execution_count": 6,
   "metadata": {},
   "outputs": [],
   "source": [
    "filename = 'Virtual Drive Through The Dark and Foggy Forest  Rain and Thunder'"
   ]
  },
  {
   "cell_type": "code",
   "execution_count": 7,
   "metadata": {},
   "outputs": [
    {
     "name": "stderr",
     "output_type": "stream",
     "text": [
      "'ffmpeg' is not recognized as an internal or external command,\n",
      "operable program or batch file.\n"
     ]
    },
    {
     "data": {
      "text/plain": [
       "'Videos/Virtual_Drive_Through_The_Dark_and_Foggy_Forest__Rain_and_Thunder_01_36_00___01_38_00'"
      ]
     },
     "execution_count": 7,
     "metadata": {},
     "output_type": "execute_result"
    }
   ],
   "source": [
    "trim_video(f'{download_path}/{filename}', (1, 36, 0), (1, 38, 0))"
   ]
  }
 ],
 "metadata": {
  "kernelspec": {
   "display_name": "base",
   "language": "python",
   "name": "python3"
  },
  "language_info": {
   "codemirror_mode": {
    "name": "ipython",
    "version": 3
   },
   "file_extension": ".py",
   "mimetype": "text/x-python",
   "name": "python",
   "nbconvert_exporter": "python",
   "pygments_lexer": "ipython3",
   "version": "3.7.12"
  }
 },
 "nbformat": 4,
 "nbformat_minor": 2
}
